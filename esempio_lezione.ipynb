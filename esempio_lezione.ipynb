{
 "cells": [
  {
   "cell_type": "code",
   "execution_count": 2,
   "metadata": {},
   "outputs": [],
   "source": [
    "import simplesso_vanderbei2 as s"
   ]
  },
  {
   "cell_type": "code",
   "execution_count": 3,
   "metadata": {},
   "outputs": [
    {
     "data": {
      "text/markdown": [
       "|\t| -|x1|x2|x3|\n",
       "|--|--|--|--|--|\n",
       "|z|0|4|1|3|\n",
       "|s1|1+t1|-1|-4|0|\n",
       "|s2|3+t2|-3|1|-1|"
      ],
      "text/plain": [
       "<IPython.core.display.Markdown object>"
      ]
     },
     "metadata": {},
     "output_type": "display_data"
    },
    {
     "data": {
      "text/markdown": [
       "|\t| -|x1|s1|x3|\n",
       "|--|--|--|--|--|\n",
       "|z|1/4+1/4t1|15/4|-1/4|3|\n",
       "|x2|1/4+1/4t1|-1/4|-1/4|0|\n",
       "|s2|13/4+t2+1/4t1|-13/4|-1/4|-1|"
      ],
      "text/plain": [
       "<IPython.core.display.Markdown object>"
      ]
     },
     "metadata": {},
     "output_type": "display_data"
    },
    {
     "data": {
      "text/markdown": [
       "|\t| -|x1|s1|s2|\n",
       "|--|--|--|--|--|\n",
       "|z|10+t1+3t2|-6|-1|-3|\n",
       "|x2|1/4+1/4t1|-1/4|-1/4|0|\n",
       "|x3|13/4+t2+1/4t1|-13/4|-1/4|-1|"
      ],
      "text/plain": [
       "<IPython.core.display.Markdown object>"
      ]
     },
     "metadata": {},
     "output_type": "display_data"
    }
   ],
   "source": [
    "c=[4,1,3] #coefficienti funzione obiettivo\n",
    "b=[[1,1,\"t1\"],[3,1,\"t2\"]] #vettore termini noti\n",
    "A=[[1,4,0],[3,-1,1]]\n",
    "t=s.Tableau(c,'max')\n",
    "t.aggiungi_vincolo(A[0],b[0])\n",
    "t.aggiungi_vincolo(A[1],b[1])\n",
    "t.crea_primo_tableau()\n",
    "t.mostra_tableau_markdown()\n",
    "t.pivot(\"s1\",\"x2\") \n",
    "t.mostra_tableau_markdown()\n",
    "t.pivot(\"s2\",\"x3\") \n",
    "t.mostra_tableau_markdown()"
   ]
  },
  {
   "cell_type": "code",
   "execution_count": null,
   "metadata": {},
   "outputs": [],
   "source": []
  }
 ],
 "metadata": {
  "kernelspec": {
   "display_name": "Python 3",
   "language": "python",
   "name": "python3"
  },
  "language_info": {
   "codemirror_mode": {
    "name": "ipython",
    "version": 3
   },
   "file_extension": ".py",
   "mimetype": "text/x-python",
   "name": "python",
   "nbconvert_exporter": "python",
   "pygments_lexer": "ipython3",
   "version": "3.6.3"
  }
 },
 "nbformat": 4,
 "nbformat_minor": 4
}
